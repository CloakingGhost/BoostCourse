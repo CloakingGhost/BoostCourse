{
 "cells": [
  {
   "cell_type": "markdown",
   "id": "4d0fce76-9bf6-469c-ba39-0928087b0c08",
   "metadata": {},
   "source": [
    "https://www.data.go.kr/data/15070318/fileData.do\n",
    "도로교통공단_월별 주야별 교통사고 통계_20231231\n",
    "\n",
    "https://www.data.go.kr/data/15083033/fileData.do\n",
    "소상공인시장진흥공단_상가(상권)정보_20240331\n",
    "\n",
    "파일 다운로드 후 data/* 이동"
   ]
  },
  {
   "cell_type": "code",
   "execution_count": 13,
   "id": "38713431-3ace-4c0a-87d6-cc46b0d2a5ad",
   "metadata": {},
   "outputs": [
    {
     "data": {
      "text/plain": [
       "'C:\\\\Users\\\\BIT\\\\Desktop\\\\보관 파일\\\\boostcourse'"
      ]
     },
     "execution_count": 13,
     "metadata": {},
     "output_type": "execute_result"
    }
   ],
   "source": [
    "%pwd"
   ]
  },
  {
   "cell_type": "code",
   "execution_count": 15,
   "id": "8939cd66-facf-4f53-9138-28553bd26ebd",
   "metadata": {},
   "outputs": [
    {
     "data": {
      "text/plain": [
       "'C:\\\\Users\\\\BIT\\\\Desktop\\\\보관 파일\\\\boostcourse'"
      ]
     },
     "execution_count": 15,
     "metadata": {},
     "output_type": "execute_result"
    }
   ],
   "source": [
    "import os \n",
    "os.getcwd()"
   ]
  },
  {
   "cell_type": "markdown",
   "id": "dea0a7a8-991a-49a3-83a0-7adf46f58bc0",
   "metadata": {},
   "source": [
    "# File"
   ]
  },
  {
   "cell_type": "code",
   "execution_count": 18,
   "id": "ce588d53-e4ee-40c8-aaa7-e13c3fb2f42b",
   "metadata": {},
   "outputs": [],
   "source": [
    "import pandas as pd"
   ]
  },
  {
   "cell_type": "code",
   "execution_count": 20,
   "id": "9a53cb7f-e10e-4504-9bdf-a7ffe4d9c3ed",
   "metadata": {},
   "outputs": [
    {
     "data": {
      "text/plain": [
       "'data\\\\도로교통공단_월별 주야별 교통사고 통계_20231231.csv'"
      ]
     },
     "execution_count": 20,
     "metadata": {},
     "output_type": "execute_result"
    }
   ],
   "source": [
    "# 파일경로 찾는 방법\n",
    "from glob import glob\n",
    "file_name = glob(\"data/*.csv\")[0]\n",
    "file_name"
   ]
  },
  {
   "cell_type": "code",
   "execution_count": 22,
   "id": "d36d1bdd-fbe0-4660-9b7b-fae2aa248148",
   "metadata": {},
   "outputs": [
    {
     "data": {
      "text/html": [
       "<div>\n",
       "<style scoped>\n",
       "    .dataframe tbody tr th:only-of-type {\n",
       "        vertical-align: middle;\n",
       "    }\n",
       "\n",
       "    .dataframe tbody tr th {\n",
       "        vertical-align: top;\n",
       "    }\n",
       "\n",
       "    .dataframe thead th {\n",
       "        text-align: right;\n",
       "    }\n",
       "</style>\n",
       "<table border=\"1\" class=\"dataframe\">\n",
       "  <thead>\n",
       "    <tr style=\"text-align: right;\">\n",
       "      <th></th>\n",
       "      <th>발생월</th>\n",
       "      <th>주야</th>\n",
       "      <th>사고건수</th>\n",
       "      <th>사망자수</th>\n",
       "      <th>중상자수</th>\n",
       "      <th>경상자수</th>\n",
       "      <th>부상신고자수</th>\n",
       "    </tr>\n",
       "  </thead>\n",
       "  <tbody>\n",
       "    <tr>\n",
       "      <th>0</th>\n",
       "      <td>1</td>\n",
       "      <td>주</td>\n",
       "      <td>8682</td>\n",
       "      <td>98</td>\n",
       "      <td>2209</td>\n",
       "      <td>9440</td>\n",
       "      <td>759</td>\n",
       "    </tr>\n",
       "    <tr>\n",
       "      <th>1</th>\n",
       "      <td>1</td>\n",
       "      <td>야</td>\n",
       "      <td>5798</td>\n",
       "      <td>92</td>\n",
       "      <td>1539</td>\n",
       "      <td>6349</td>\n",
       "      <td>530</td>\n",
       "    </tr>\n",
       "    <tr>\n",
       "      <th>2</th>\n",
       "      <td>2</td>\n",
       "      <td>주</td>\n",
       "      <td>8056</td>\n",
       "      <td>95</td>\n",
       "      <td>2149</td>\n",
       "      <td>8710</td>\n",
       "      <td>710</td>\n",
       "    </tr>\n",
       "    <tr>\n",
       "      <th>3</th>\n",
       "      <td>2</td>\n",
       "      <td>야</td>\n",
       "      <td>5228</td>\n",
       "      <td>86</td>\n",
       "      <td>1419</td>\n",
       "      <td>5553</td>\n",
       "      <td>500</td>\n",
       "    </tr>\n",
       "    <tr>\n",
       "      <th>4</th>\n",
       "      <td>3</td>\n",
       "      <td>주</td>\n",
       "      <td>10393</td>\n",
       "      <td>109</td>\n",
       "      <td>2600</td>\n",
       "      <td>11132</td>\n",
       "      <td>880</td>\n",
       "    </tr>\n",
       "    <tr>\n",
       "      <th>5</th>\n",
       "      <td>3</td>\n",
       "      <td>야</td>\n",
       "      <td>5607</td>\n",
       "      <td>78</td>\n",
       "      <td>1449</td>\n",
       "      <td>5930</td>\n",
       "      <td>467</td>\n",
       "    </tr>\n",
       "    <tr>\n",
       "      <th>6</th>\n",
       "      <td>4</td>\n",
       "      <td>주</td>\n",
       "      <td>10460</td>\n",
       "      <td>93</td>\n",
       "      <td>2797</td>\n",
       "      <td>11356</td>\n",
       "      <td>1055</td>\n",
       "    </tr>\n",
       "    <tr>\n",
       "      <th>7</th>\n",
       "      <td>4</td>\n",
       "      <td>야</td>\n",
       "      <td>5876</td>\n",
       "      <td>89</td>\n",
       "      <td>1609</td>\n",
       "      <td>6181</td>\n",
       "      <td>551</td>\n",
       "    </tr>\n",
       "    <tr>\n",
       "      <th>8</th>\n",
       "      <td>5</td>\n",
       "      <td>주</td>\n",
       "      <td>11668</td>\n",
       "      <td>135</td>\n",
       "      <td>3132</td>\n",
       "      <td>12618</td>\n",
       "      <td>1178</td>\n",
       "    </tr>\n",
       "    <tr>\n",
       "      <th>9</th>\n",
       "      <td>5</td>\n",
       "      <td>야</td>\n",
       "      <td>5884</td>\n",
       "      <td>68</td>\n",
       "      <td>1576</td>\n",
       "      <td>6233</td>\n",
       "      <td>603</td>\n",
       "    </tr>\n",
       "    <tr>\n",
       "      <th>10</th>\n",
       "      <td>6</td>\n",
       "      <td>주</td>\n",
       "      <td>10962</td>\n",
       "      <td>114</td>\n",
       "      <td>2881</td>\n",
       "      <td>11797</td>\n",
       "      <td>1092</td>\n",
       "    </tr>\n",
       "    <tr>\n",
       "      <th>11</th>\n",
       "      <td>6</td>\n",
       "      <td>야</td>\n",
       "      <td>5754</td>\n",
       "      <td>88</td>\n",
       "      <td>1601</td>\n",
       "      <td>5893</td>\n",
       "      <td>613</td>\n",
       "    </tr>\n",
       "    <tr>\n",
       "      <th>12</th>\n",
       "      <td>7</td>\n",
       "      <td>주</td>\n",
       "      <td>10647</td>\n",
       "      <td>105</td>\n",
       "      <td>2755</td>\n",
       "      <td>11552</td>\n",
       "      <td>1138</td>\n",
       "    </tr>\n",
       "    <tr>\n",
       "      <th>13</th>\n",
       "      <td>7</td>\n",
       "      <td>야</td>\n",
       "      <td>5931</td>\n",
       "      <td>100</td>\n",
       "      <td>1554</td>\n",
       "      <td>6165</td>\n",
       "      <td>549</td>\n",
       "    </tr>\n",
       "    <tr>\n",
       "      <th>14</th>\n",
       "      <td>8</td>\n",
       "      <td>주</td>\n",
       "      <td>11185</td>\n",
       "      <td>136</td>\n",
       "      <td>2990</td>\n",
       "      <td>12252</td>\n",
       "      <td>1111</td>\n",
       "    </tr>\n",
       "    <tr>\n",
       "      <th>15</th>\n",
       "      <td>8</td>\n",
       "      <td>야</td>\n",
       "      <td>6027</td>\n",
       "      <td>110</td>\n",
       "      <td>1632</td>\n",
       "      <td>6287</td>\n",
       "      <td>641</td>\n",
       "    </tr>\n",
       "    <tr>\n",
       "      <th>16</th>\n",
       "      <td>9</td>\n",
       "      <td>주</td>\n",
       "      <td>11458</td>\n",
       "      <td>130</td>\n",
       "      <td>3063</td>\n",
       "      <td>12396</td>\n",
       "      <td>1119</td>\n",
       "    </tr>\n",
       "    <tr>\n",
       "      <th>17</th>\n",
       "      <td>9</td>\n",
       "      <td>야</td>\n",
       "      <td>6402</td>\n",
       "      <td>109</td>\n",
       "      <td>1777</td>\n",
       "      <td>6559</td>\n",
       "      <td>737</td>\n",
       "    </tr>\n",
       "    <tr>\n",
       "      <th>18</th>\n",
       "      <td>10</td>\n",
       "      <td>주</td>\n",
       "      <td>11039</td>\n",
       "      <td>141</td>\n",
       "      <td>3186</td>\n",
       "      <td>11609</td>\n",
       "      <td>1102</td>\n",
       "    </tr>\n",
       "    <tr>\n",
       "      <th>19</th>\n",
       "      <td>10</td>\n",
       "      <td>야</td>\n",
       "      <td>6294</td>\n",
       "      <td>124</td>\n",
       "      <td>1814</td>\n",
       "      <td>6383</td>\n",
       "      <td>559</td>\n",
       "    </tr>\n",
       "    <tr>\n",
       "      <th>20</th>\n",
       "      <td>11</td>\n",
       "      <td>주</td>\n",
       "      <td>11397</td>\n",
       "      <td>139</td>\n",
       "      <td>3143</td>\n",
       "      <td>12183</td>\n",
       "      <td>1081</td>\n",
       "    </tr>\n",
       "    <tr>\n",
       "      <th>21</th>\n",
       "      <td>11</td>\n",
       "      <td>야</td>\n",
       "      <td>6351</td>\n",
       "      <td>118</td>\n",
       "      <td>1706</td>\n",
       "      <td>6565</td>\n",
       "      <td>620</td>\n",
       "    </tr>\n",
       "    <tr>\n",
       "      <th>22</th>\n",
       "      <td>12</td>\n",
       "      <td>주</td>\n",
       "      <td>10540</td>\n",
       "      <td>107</td>\n",
       "      <td>2691</td>\n",
       "      <td>11407</td>\n",
       "      <td>1003</td>\n",
       "    </tr>\n",
       "    <tr>\n",
       "      <th>23</th>\n",
       "      <td>12</td>\n",
       "      <td>야</td>\n",
       "      <td>6657</td>\n",
       "      <td>87</td>\n",
       "      <td>1717</td>\n",
       "      <td>7019</td>\n",
       "      <td>643</td>\n",
       "    </tr>\n",
       "  </tbody>\n",
       "</table>\n",
       "</div>"
      ],
      "text/plain": [
       "    발생월 주야   사고건수  사망자수  중상자수   경상자수  부상신고자수\n",
       "0     1  주   8682    98  2209   9440     759\n",
       "1     1  야   5798    92  1539   6349     530\n",
       "2     2  주   8056    95  2149   8710     710\n",
       "3     2  야   5228    86  1419   5553     500\n",
       "4     3  주  10393   109  2600  11132     880\n",
       "5     3  야   5607    78  1449   5930     467\n",
       "6     4  주  10460    93  2797  11356    1055\n",
       "7     4  야   5876    89  1609   6181     551\n",
       "8     5  주  11668   135  3132  12618    1178\n",
       "9     5  야   5884    68  1576   6233     603\n",
       "10    6  주  10962   114  2881  11797    1092\n",
       "11    6  야   5754    88  1601   5893     613\n",
       "12    7  주  10647   105  2755  11552    1138\n",
       "13    7  야   5931   100  1554   6165     549\n",
       "14    8  주  11185   136  2990  12252    1111\n",
       "15    8  야   6027   110  1632   6287     641\n",
       "16    9  주  11458   130  3063  12396    1119\n",
       "17    9  야   6402   109  1777   6559     737\n",
       "18   10  주  11039   141  3186  11609    1102\n",
       "19   10  야   6294   124  1814   6383     559\n",
       "20   11  주  11397   139  3143  12183    1081\n",
       "21   11  야   6351   118  1706   6565     620\n",
       "22   12  주  10540   107  2691  11407    1003\n",
       "23   12  야   6657    87  1717   7019     643"
      ]
     },
     "execution_count": 22,
     "metadata": {},
     "output_type": "execute_result"
    }
   ],
   "source": [
    "# UnicodeDecodeError 인코딩 설정해야함 파일의 인코딩이 utf-8이가 때\n",
    "pd.read_csv(file_name, encoding=\"cp949\")"
   ]
  },
  {
   "cell_type": "markdown",
   "id": "40333c8a-f765-49d5-a0ce-93c2ce48fe52",
   "metadata": {},
   "source": [
    "# 여러 파일을 한번에 로드하는 방법"
   ]
  },
  {
   "cell_type": "code",
   "execution_count": 25,
   "id": "9308f5b8-2d77-49dd-8c9a-5db606429890",
   "metadata": {},
   "outputs": [
    {
     "data": {
      "text/plain": [
       "['data/store\\\\소상공인시장진흥공단_상가(상권)정보_강원_202403.csv',\n",
       " 'data/store\\\\소상공인시장진흥공단_상가(상권)정보_경기_202403.csv',\n",
       " 'data/store\\\\소상공인시장진흥공단_상가(상권)정보_경남_202403.csv',\n",
       " 'data/store\\\\소상공인시장진흥공단_상가(상권)정보_경북_202403.csv',\n",
       " 'data/store\\\\소상공인시장진흥공단_상가(상권)정보_광주_202403.csv',\n",
       " 'data/store\\\\소상공인시장진흥공단_상가(상권)정보_대구_202403.csv',\n",
       " 'data/store\\\\소상공인시장진흥공단_상가(상권)정보_대전_202403.csv',\n",
       " 'data/store\\\\소상공인시장진흥공단_상가(상권)정보_부산_202403.csv',\n",
       " 'data/store\\\\소상공인시장진흥공단_상가(상권)정보_서울_202403.csv',\n",
       " 'data/store\\\\소상공인시장진흥공단_상가(상권)정보_세종_202403.csv',\n",
       " 'data/store\\\\소상공인시장진흥공단_상가(상권)정보_울산_202403.csv',\n",
       " 'data/store\\\\소상공인시장진흥공단_상가(상권)정보_인천_202403.csv',\n",
       " 'data/store\\\\소상공인시장진흥공단_상가(상권)정보_전남_202403.csv',\n",
       " 'data/store\\\\소상공인시장진흥공단_상가(상권)정보_전북_202403.csv',\n",
       " 'data/store\\\\소상공인시장진흥공단_상가(상권)정보_제주_202403.csv',\n",
       " 'data/store\\\\소상공인시장진흥공단_상가(상권)정보_충남_202403.csv',\n",
       " 'data/store\\\\소상공인시장진흥공단_상가(상권)정보_충북_202403.csv']"
      ]
     },
     "execution_count": 25,
     "metadata": {},
     "output_type": "execute_result"
    }
   ],
   "source": [
    "# 타이핑의 인코딩과 복붙할 때 인코딩과 주피터 노트북의 인코딩의 타입이 다 다를수 있다\n",
    "glob(\"data/store/*.csv\")\n",
    "# glob(\"data/store/*_*.csv\")"
   ]
  },
  {
   "cell_type": "code",
   "execution_count": 27,
   "id": "b0d21a14-4c1a-480d-8a2f-916989898c36",
   "metadata": {},
   "outputs": [
    {
     "data": {
      "text/plain": [
       "['data/store\\\\소상공인시장진흥공단_상가(상권)정보_강원_202403.csv',\n",
       " 'data/store\\\\소상공인시장진흥공단_상가(상권)정보_경기_202403.csv',\n",
       " 'data/store\\\\소상공인시장진흥공단_상가(상권)정보_경남_202403.csv',\n",
       " 'data/store\\\\소상공인시장진흥공단_상가(상권)정보_경북_202403.csv',\n",
       " 'data/store\\\\소상공인시장진흥공단_상가(상권)정보_광주_202403.csv',\n",
       " 'data/store\\\\소상공인시장진흥공단_상가(상권)정보_대구_202403.csv',\n",
       " 'data/store\\\\소상공인시장진흥공단_상가(상권)정보_대전_202403.csv',\n",
       " 'data/store\\\\소상공인시장진흥공단_상가(상권)정보_부산_202403.csv',\n",
       " 'data/store\\\\소상공인시장진흥공단_상가(상권)정보_서울_202403.csv',\n",
       " 'data/store\\\\소상공인시장진흥공단_상가(상권)정보_세종_202403.csv',\n",
       " 'data/store\\\\소상공인시장진흥공단_상가(상권)정보_울산_202403.csv',\n",
       " 'data/store\\\\소상공인시장진흥공단_상가(상권)정보_인천_202403.csv',\n",
       " 'data/store\\\\소상공인시장진흥공단_상가(상권)정보_전남_202403.csv',\n",
       " 'data/store\\\\소상공인시장진흥공단_상가(상권)정보_전북_202403.csv',\n",
       " 'data/store\\\\소상공인시장진흥공단_상가(상권)정보_제주_202403.csv',\n",
       " 'data/store\\\\소상공인시장진흥공단_상가(상권)정보_충남_202403.csv',\n",
       " 'data/store\\\\소상공인시장진흥공단_상가(상권)정보_충북_202403.csv']"
      ]
     },
     "execution_count": 27,
     "metadata": {},
     "output_type": "execute_result"
    }
   ],
   "source": [
    "file_csv = glob(\"data/store/*.csv\")\n",
    "file_csv"
   ]
  },
  {
   "cell_type": "code",
   "execution_count": 29,
   "id": "a5f2a6c9-4509-4041-b61b-b9f48043ef6a",
   "metadata": {},
   "outputs": [],
   "source": [
    "# pd.read_csv(file_csv[0], low_memory=False)"
   ]
  },
  {
   "cell_type": "code",
   "execution_count": 31,
   "id": "e25ba58f-dcd1-4f52-a226-88f375014ac9",
   "metadata": {},
   "outputs": [],
   "source": [
    "# 파일의 데이터를 가져와 합치기 위해 리스트에 데이터를 저장\n",
    "file_list = []\n",
    "for file_csv_name in file_csv:\n",
    "    tmp = pd.read_csv(file_csv_name, low_memory=False)\n",
    "    file_list.append(tmp)"
   ]
  },
  {
   "cell_type": "code",
   "execution_count": 33,
   "id": "bcc15978-6e0e-48c1-9cf0-6fa2098bdac9",
   "metadata": {},
   "outputs": [
    {
     "data": {
      "text/plain": [
       "17"
      ]
     },
     "execution_count": 33,
     "metadata": {},
     "output_type": "execute_result"
    }
   ],
   "source": [
    "len(file_list)"
   ]
  },
  {
   "cell_type": "code",
   "execution_count": 41,
   "id": "034093b0-17c4-477e-86b6-c45ce2366cf2",
   "metadata": {},
   "outputs": [
    {
     "data": {
      "text/plain": [
       "(2418939, 39)"
      ]
     },
     "execution_count": 41,
     "metadata": {},
     "output_type": "execute_result"
    }
   ],
   "source": [
    "# 데이터를 하나의 자료로 만듬\n",
    "df = pd.concat(file_list)\n",
    "# 데이터수 , 컬럼\n",
    "df.shape"
   ]
  },
  {
   "cell_type": "code",
   "execution_count": 60,
   "id": "cac8719c-be1f-442b-b8f4-54938ee96410",
   "metadata": {},
   "outputs": [
    {
     "name": "stdout",
     "output_type": "stream",
     "text": [
      "<class 'pandas.core.frame.DataFrame'>\n",
      "Index: 2418939 entries, 0 to 81648\n",
      "Data columns (total 39 columns):\n",
      " #   Column     Dtype  \n",
      "---  ------     -----  \n",
      " 0   상가업소번호     object \n",
      " 1   상호명        object \n",
      " 2   지점명        object \n",
      " 3   상권업종대분류코드  object \n",
      " 4   상권업종대분류명   object \n",
      " 5   상권업종중분류코드  object \n",
      " 6   상권업종중분류명   object \n",
      " 7   상권업종소분류코드  object \n",
      " 8   상권업종소분류명   object \n",
      " 9   표준산업분류코드   object \n",
      " 10  표준산업분류명    object \n",
      " 11  시도코드       int64  \n",
      " 12  시도명        object \n",
      " 13  시군구코드      int64  \n",
      " 14  시군구명       object \n",
      " 15  행정동코드      int64  \n",
      " 16  행정동명       object \n",
      " 17  법정동코드      int64  \n",
      " 18  법정동명       object \n",
      " 19  지번코드       int64  \n",
      " 20  대지구분코드     int64  \n",
      " 21  대지구분명      object \n",
      " 22  지번본번지      float64\n",
      " 23  지번부번지      float64\n",
      " 24  지번주소       object \n",
      " 25  도로명코드      float64\n",
      " 26  도로명        object \n",
      " 27  건물본번지      float64\n",
      " 28  건물부번지      float64\n",
      " 29  건물관리번호     object \n",
      " 30  건물명        object \n",
      " 31  도로명주소      object \n",
      " 32  구우편번호      int64  \n",
      " 33  신우편번호      int64  \n",
      " 34  동정보        float64\n",
      " 35  층정보        object \n",
      " 36  호정보        float64\n",
      " 37  경도         float64\n",
      " 38  위도         float64\n",
      "dtypes: float64(9), int64(8), object(22)\n",
      "memory usage: 738.2+ MB\n"
     ]
    }
   ],
   "source": [
    "# 컬럼 정\n",
    "df.info()"
   ]
  }
 ],
 "metadata": {
  "kernelspec": {
   "display_name": "Python 3 (ipykernel)",
   "language": "python",
   "name": "python3"
  },
  "language_info": {
   "codemirror_mode": {
    "name": "ipython",
    "version": 3
   },
   "file_extension": ".py",
   "mimetype": "text/x-python",
   "name": "python",
   "nbconvert_exporter": "python",
   "pygments_lexer": "ipython3",
   "version": "3.12.4"
  }
 },
 "nbformat": 4,
 "nbformat_minor": 5
}
